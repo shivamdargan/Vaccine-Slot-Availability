{
 "cells": [
  {
   "cell_type": "markdown",
   "metadata": {},
   "source": [
    "<h1 style=\"text-align: center;\">  \n",
    "    Vaccine Availability Alert\n",
    "</h1>"
   ]
  },
  {
   "cell_type": "markdown",
   "metadata": {},
   "source": [
    "### Import Libraries"
   ]
  },
  {
   "cell_type": "code",
   "execution_count": null,
   "metadata": {},
   "outputs": [],
   "source": [
    "from cowin_api import CoWinAPI\n",
    "import pandas as pd\n",
    "import time\n",
    "from playsound import playsound\n",
    "import datetime\n",
    "import random"
   ]
  },
  {
   "cell_type": "markdown",
   "metadata": {},
   "source": [
    "### Enter the required State Id\n",
    "##### E.g. 9 for Delhi. Refer API Docs for all"
   ]
  },
  {
   "cell_type": "code",
   "execution_count": null,
   "metadata": {},
   "outputs": [],
   "source": [
    "state_id = '9'\n",
    "cowin = CoWinAPI()\n",
    "districts = cowin.get_districts(state_id)\n",
    "district_ids=districts[\"districts\"]\n",
    "dist=[]\n",
    "for district in district_ids:\n",
    "    dist.append(district[\"district_id\"])\n",
    "print(dist)"
   ]
  },
  {
   "cell_type": "markdown",
   "metadata": {},
   "source": [
    "### Set other filters "
   ]
  },
  {
   "cell_type": "code",
   "execution_count": null,
   "metadata": {},
   "outputs": [],
   "source": [
    "date = '21-05-2021'  # Optional. Takes today's date by default\n",
    "min_age_limit = 18  # Optional. By default returns centers without filtering by min_age_limit"
   ]
  },
  {
   "cell_type": "markdown",
   "metadata": {},
   "source": [
    "### Function to fetch the required slots available from Cowin API"
   ]
  },
  {
   "cell_type": "code",
   "execution_count": 66,
   "metadata": {
    "scrolled": false
   },
   "outputs": [],
   "source": [
    "aval=[]\n",
    "\n",
    "def getAvailableSlots(dist,date,min_age_limit):\n",
    "    df = pd.DataFrame();\n",
    "    for i in dist:\n",
    "        available_centers = cowin.get_availability_by_district(str(i), date, min_age_limit)\n",
    "        for center in available_centers[\"centers\"]:\n",
    "            df = df.append(\n",
    "                {\n",
    "                    \"Centre Id\": center[\"center_id\"], \n",
    "                    \"Center Name\": center[\"name\"], \n",
    "                    \"District\": center[\"district_name\"],\n",
    "                    \"Pincode\": center[\"pincode\"],\n",
    "                    \"FeeType\": center[\"fee_type\"],\n",
    "                    \"Vaccine\": center[\"sessions\"][0][\"vaccine\"],\n",
    "                    \"Dose 1\" : center[\"sessions\"][0][\"available_capacity_dose1\"]\n",
    "                }, ignore_index=True);\n",
    "    filtered_df = df[(df[\"Dose 1\"]>0) & (df[\"Vaccine\"]==\"COVAXIN\")];\n",
    "    return(len(filtered_df), filtered_df)"
   ]
  },
  {
   "cell_type": "markdown",
   "metadata": {},
   "source": [
    "### Polling every 10 secs for slot availability"
   ]
  },
  {
   "cell_type": "code",
   "execution_count": 57,
   "metadata": {},
   "outputs": [],
   "source": [
    "faces = [\"( ͡° ͜ʖ ͡°)\",\"(▀̿Ĺ̯▀̿ ̿)\",\"¯\\_(ツ)_/¯\",\"ಠ_ಠ\",\"(͡ ͡° ͜ つ ͡͡°)\"]"
   ]
  },
  {
   "cell_type": "code",
   "execution_count": null,
   "metadata": {},
   "outputs": [
    {
     "name": "stdout",
     "output_type": "stream",
     "text": [
      "2021-05-21 00:22:08.035591 Still looking... ¯\\_(ツ)_/¯\n",
      "2021-05-21 00:22:19.097476 Still looking... (▀̿Ĺ̯▀̿ ̿)\n"
     ]
    }
   ],
   "source": [
    "while(True):\n",
    "    try:\n",
    "        num_available_slots, available_slots = getAvailableSlots(dist,date,min_age_limit); \n",
    "        if(num_available_slots > 0):\n",
    "            print(datetime.datetime.now(), available_slots);\n",
    "            playsound(\"C:\\\\Users\\\\Shivam Dargan\\\\Downloads\\\\Red Alert Ringtone-tones6.com.mp3\");\n",
    "        else:\n",
    "            print(datetime.datetime.now(), \"Still looking... \"+random.choice(faces))\n",
    "        time.sleep(10)\n",
    "    except Exception as e:\n",
    "        print(datetime.datetime.now(), \"API Unresponsive\", e)\n",
    "        time.sleep(20)"
   ]
  },
  {
   "cell_type": "code",
   "execution_count": 46,
   "metadata": {},
   "outputs": [],
   "source": []
  },
  {
   "cell_type": "code",
   "execution_count": null,
   "metadata": {},
   "outputs": [],
   "source": []
  }
 ],
 "metadata": {
  "kernelspec": {
   "display_name": "Python 3",
   "language": "python",
   "name": "python3"
  },
  "language_info": {
   "codemirror_mode": {
    "name": "ipython",
    "version": 3
   },
   "file_extension": ".py",
   "mimetype": "text/x-python",
   "name": "python",
   "nbconvert_exporter": "python",
   "pygments_lexer": "ipython3",
   "version": "3.7.9"
  }
 },
 "nbformat": 4,
 "nbformat_minor": 4
}
